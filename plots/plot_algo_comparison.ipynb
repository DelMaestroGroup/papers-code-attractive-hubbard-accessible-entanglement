{
 "cells": [
  {
   "cell_type": "code",
   "execution_count": 1,
   "metadata": {},
   "outputs": [],
   "source": [
    "import numpy as np\n",
    "import h5py\n",
    "import matplotlib as mpl\n",
    "import matplotlib.pyplot as plt\n",
    "import matplotlib.gridspec as gridspec\n",
    "from mpl_toolkits.axes_grid1.inset_locator import inset_axes\n",
    "from mpl_toolkits.axes_grid1.inset_locator import zoomed_inset_axes\n",
    "from mpl_toolkits.axes_grid1.inset_locator import mark_inset\n",
    "from matplotlib.ticker import AutoMinorLocator\n",
    "import uncertainties\n",
    "from uncertainties import ufloat\n",
    "from uncertainties.umath import *\n",
    "from uncertainties import unumpy as unp\n",
    "\n",
    "import colors\n",
    "\n",
    "# Set matplotlib font to resemble LaTeX's default font (Computer Modern)\n",
    "plt.rcParams['font.family'] = 'serif'\n",
    "plt.rcParams['font.serif'] = 'Computer Modern'\n",
    "plt.rcParams['text.usetex'] = True"
   ]
  },
  {
   "cell_type": "code",
   "execution_count": 45,
   "metadata": {},
   "outputs": [],
   "source": [
    "orange = [\"#ffac00\"]\n",
    "darkorange = [\"#662089\"]\n",
    "blue = [\"#1B4882\"]\n",
    "green = [\"#086361\"]\n",
    "darkgreen = [\"#2c853c\"]\n",
    "deepgreen=[\"#4B6143\"]\n",
    "red = [\"#e85c47\"]\n",
    "alpha = [0.5,0.4,0.3,0.2,0.1,0.0]\n",
    "beta = [0.9,0.8,0.6,0.4,0.2,0.1]\n",
    "for i,c in enumerate(alpha):\n",
    "        orange.append(colors.get_alpha_hex(orange[0],beta[i]))\n",
    "        darkorange.append(colors.get_alpha_hex(darkorange[0],beta[i]))\n",
    "        blue.append(colors.get_alpha_hex(blue[0],beta[i]))\n",
    "        green.append(colors.get_alpha_hex(green[0],beta[i]))\n",
    "        darkgreen.append(colors.get_alpha_hex(darkgreen[0],beta[i]))\n",
    "        deepgreen.append(colors.get_alpha_hex(deepgreen[0],beta[i]))\n",
    "        red.append(colors.get_alpha_hex(red[0],beta[i]))"
   ]
  },
  {
   "cell_type": "code",
   "execution_count": 7,
   "metadata": {},
   "outputs": [],
   "source": [
    "swap_num_file = h5py.File(\"../data/processed_data/SwapSample_num_U-8.0_N64_Lx8_Ly8_LA16_beta18.0_seed2182.jld\")\n",
    "swap_denom_file = h5py.File(\"../data/processed_data/SwapSample_denom_U-8.0_N64_Lx8_Ly8_LA16_beta18.0_seed1235.jld\")\n",
    "\n",
    "swap_num = swap_num_file[\"p_num\"][:]\n",
    "swap_denom = swap_denom_file[\"p_denom\"][:]"
   ]
  },
  {
   "cell_type": "code",
   "execution_count": 38,
   "metadata": {},
   "outputs": [],
   "source": [
    "replica_file_0 = h5py.File(\"../data/processed_data/ReplicaSample_attrHub_Lx8_Ly8_LA16_N64_U-8.0_lambda0.0_beta50.0_seed1250.jld\")\n",
    "replica_file_1 = h5py.File(\"../data/processed_data/ReplicaSample_attrHub_Lx8_Ly8_LA16_N64_U-8.0_lambda0.2_beta50.0_seed1251.jld\")\n",
    "replica_file_2 = h5py.File(\"../data/processed_data/ReplicaSample_attrHub_Lx8_Ly8_LA16_N64_U-8.0_lambda0.4_beta50.0_seed1252.jld\")\n",
    "replica_file_3 = h5py.File(\"../data/processed_data/ReplicaSample_attrHub_Lx8_Ly8_LA16_N64_U-8.0_lambda0.6_beta50.0_seed1253.jld\")\n",
    "replica_file_4 = h5py.File(\"../data/processed_data/ReplicaSample_attrHub_Lx8_Ly8_LA16_N64_U-8.0_lambda0.8_beta50.0_seed1254.jld\")\n",
    "\n",
    "replica_sample_0 = replica_file_0[\"detgA\"][:]\n",
    "replica_sample_1 = replica_file_1[\"detgA\"][:]\n",
    "replica_sample_2 = replica_file_2[\"detgA\"][:]\n",
    "replica_sample_3 = replica_file_3[\"detgA\"][:]\n",
    "replica_sample_4 = replica_file_4[\"detgA\"][:]"
   ]
  },
  {
   "cell_type": "code",
   "execution_count": 75,
   "metadata": {},
   "outputs": [],
   "source": [
    "bins1 = np.linspace(min(swap_num + swap_denom), max(swap_num + swap_denom), 30)\n",
    "bins2 = np.linspace(min(replica_sample_0 + replica_sample_4), max(replica_sample_0 + replica_sample_4), 50)"
   ]
  },
  {
   "cell_type": "code",
   "execution_count": 98,
   "metadata": {},
   "outputs": [
    {
     "data": {
      "text/plain": [
       "Text(-0.16, 1.05, '(b)')"
      ]
     },
     "execution_count": 98,
     "metadata": {},
     "output_type": "execute_result"
    },
    {
     "data": {
      "image/png": "[encoded data removed]",
      "text/plain": [
       "<Figure size 500x600 with 3 Axes>"
      ]
     },
     "metadata": {},
     "output_type": "display_data"
    }
   ],
   "source": [
    "fig = plt.figure(figsize=(5, 6))\n",
    "gs = gridspec.GridSpec(2, 2, wspace=0.05, hspace=0.3, height_ratios=[0.8, 1.0])\n",
    "ax1 = fig.add_subplot(gs[0,0])\n",
    "ax2 = fig.add_subplot(gs[0,1])\n",
    "ax3 = fig.add_subplot(gs[1,:])\n",
    "\n",
    "ax1.hist(swap_num, bins=bins1, edgecolor=orange[0], facecolor=orange[4])\n",
    "ax1.set_xlabel(r'$p_{Z^2\\rightarrow Z_{A,2}}$')\n",
    "ax1.set_ylim(0, 1000)\n",
    "ax1.set_ylabel('Count')\n",
    "ax1.xaxis.set_minor_locator(AutoMinorLocator())\n",
    "\n",
    "ax2.hist(swap_denom, bins=bins1, edgecolor=darkorange[0], facecolor=darkorange[4])\n",
    "ax2.set_xlabel(r'$p_{Z_{A,2}\\rightarrow Z^2}$')\n",
    "ax2.set_ylim(0, 1000)\n",
    "ax2.set_yticks([])\n",
    "ax2.xaxis.set_minor_locator(AutoMinorLocator())\n",
    "\n",
    "ax3.hist(replica_sample_0, bins=bins2, edgecolor=blue[0], facecolor=blue[4],             label=r\"$\\lambda=0$\")\n",
    "ax3.hist(replica_sample_1, bins=bins2, edgecolor=green[0], facecolor=green[4],           label=r\"$\\lambda=0.2$\")\n",
    "ax3.hist(replica_sample_2, bins=bins2, edgecolor=darkgreen[0], facecolor=darkgreen[4],   label=r\"$\\lambda=0.4$\")\n",
    "ax3.hist(replica_sample_3, bins=bins2, edgecolor=deepgreen[0], facecolor=deepgreen[4],   label=r\"$\\lambda=0.6$\")\n",
    "ax3.hist(replica_sample_4, bins=bins2, edgecolor=red[0], facecolor=red[4],               label=r\"$\\lambda=0.8$\")\n",
    "ax3.set_xlabel(r'$\\mathcal{Z}(\\lambda+\\Delta\\lambda) / \\mathcal{Z}(\\lambda)$')\n",
    "ax3.set_ylabel('Count')\n",
    "ax3.legend(frameon=False, ncol=1, bbox_to_anchor=(0.6, 0.40))\n",
    "ax3.xaxis.set_minor_locator(AutoMinorLocator())\n",
    "\n",
    "label_parameters = {'fontsize':15, 'verticalalignment':'top'}\n",
    "ax1.text(-0.35, 1.05, '(a)', **label_parameters, transform=ax1.transAxes)\n",
    "ax3.text(-0.16, 1.05, '(b)', **label_parameters, transform=ax3.transAxes)"
   ]
  },
  {
   "cell_type": "code",
   "execution_count": 96,
   "metadata": {},
   "outputs": [],
   "source": [
    "fig.savefig(\"../figures/EtgEnt_AlgoComparison.pdf\", bbox_inches='tight', pad_inches=0)\n",
    "fig.savefig(\"../figures/EtgEnt_AlgoComparison.svg\", bbox_inches='tight', pad_inches=0)"
   ]
  }
 ],
 "metadata": {
  "kernelspec": {
   "display_name": "Python 3",
   "language": "python",
   "name": "python3"
  },
  "language_info": {
   "codemirror_mode": {
    "name": "ipython",
    "version": 3
   },
   "file_extension": ".py",
   "mimetype": "text/x-python",
   "name": "python",
   "nbconvert_exporter": "python",
   "pygments_lexer": "ipython3",
   "version": "3.11.5"
  }
 },
 "nbformat": 4,
 "nbformat_minor": 2
}
